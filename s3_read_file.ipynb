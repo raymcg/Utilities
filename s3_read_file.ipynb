{
 "cells": [
  {
   "cell_type": "code",
   "execution_count": 1,
   "metadata": {},
   "outputs": [],
   "source": [
    "import pandas as pd"
   ]
  },
  {
   "cell_type": "code",
   "execution_count": 2,
   "metadata": {},
   "outputs": [],
   "source": [
    "# Constants\n",
    "BUCKET_NAME = 'variances3bucket'\n",
    "S3_FILE_KEY = 'Scraping/datafiles/bdc_hotels_df_2023-09-21_Makati.csv'\n",
    "S3_URL = f's3://{BUCKET_NAME}/{S3_FILE_KEY}'"
   ]
  },
  {
   "cell_type": "code",
   "execution_count": 3,
   "metadata": {},
   "outputs": [
    {
     "name": "stdout",
     "output_type": "stream",
     "text": [
      "                                    Hotel Name  Rating  Number of Reviews  \\\n",
      "0  KL Tower Makati Apartments by PH Staycation     8.1                 46   \n",
      "1                     Lub d Philippines Makati     8.0                 83   \n",
      "2                    airobedz MAKATI - Palanan     8.3                232   \n",
      "3            The Mini Suites Eton Tower Makati     7.0                946   \n",
      "4                                 District Inn     0.0                  0   \n",
      "\n",
      "   Headline Price  KM From City Centre  Page Ranking    Run Date CheckIn Date  \\\n",
      "0            3585                    0             1  2023-09-07   2023-09-21   \n",
      "1            1981                    0             1  2023-09-07   2023-09-21   \n",
      "2            1353                    0             1  2023-09-07   2023-09-21   \n",
      "3            2210                    0             1  2023-09-07   2023-09-21   \n",
      "4            1400                    0             1  2023-09-07   2023-09-21   \n",
      "\n",
      "              Site    Price Category  Ranking for Appearance  \n",
      "0  Booking Dot Com  Greater than 200                       0  \n",
      "1  Booking Dot Com  Greater than 200                       1  \n",
      "2  Booking Dot Com  Greater than 200                       2  \n",
      "3  Booking Dot Com  Greater than 200                       3  \n",
      "4  Booking Dot Com  Greater than 200                       4  \n"
     ]
    }
   ],
   "source": [
    "# Read the CSV directly from S3 using pandas\n",
    "df = pd.read_csv(S3_URL)\n",
    "print(df.head())"
   ]
  }
 ],
 "metadata": {
  "kernelspec": {
   "display_name": "Python 3",
   "language": "python",
   "name": "python3"
  },
  "language_info": {
   "codemirror_mode": {
    "name": "ipython",
    "version": 3
   },
   "file_extension": ".py",
   "mimetype": "text/x-python",
   "name": "python",
   "nbconvert_exporter": "python",
   "pygments_lexer": "ipython3",
   "version": "3.10.12"
  },
  "orig_nbformat": 4
 },
 "nbformat": 4,
 "nbformat_minor": 2
}
